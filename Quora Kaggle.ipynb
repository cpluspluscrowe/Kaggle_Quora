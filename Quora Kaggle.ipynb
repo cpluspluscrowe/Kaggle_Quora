{
 "cells": [
  {
   "cell_type": "code",
   "execution_count": null,
   "metadata": {
    "collapsed": false
   },
   "outputs": [],
   "source": [
    "import os\n",
    "from pandas import read_csv\n",
    "import sqlite3 as lite\n",
    "import xlwings as xw\n",
    "main_dir = r\"C:\\Users\\CCrowe\\Documents\\Kaggle\\Quora\" #Everything is relative\n",
    "\n",
    "class DatabaseLoader():\n",
    "    def __init__(self):\n",
    "        self.train_path_csv = os.path.join(main_dir,\"train.csv\")\n",
    "        self.train_df = read_csv(self.train_path_csv)\n",
    "        self.CreateTrainDatabase()\n",
    "        self.CreateTestDatabase()\n",
    "        self.LoadTrainData()\n",
    "        #self.LoadTestData()\n",
    "    def CreateTrainDatabase(self):\n",
    "        conn = lite.connect(os.path.join(main_dir,'Quora.db'))\n",
    "        cur = conn.cursor()\n",
    "        cur.execute('''CREATE TABLE IF NOT EXISTS train(id int, qid1 int, qid2 int, question1 text, question2 text,is_duplicate int)''')\n",
    "        conn.commit()\n",
    "        conn.close()\n",
    "    def CreateTestDatabase(self):\n",
    "        conn = lite.connect(os.path.join(main_dir,'Quora.db'))\n",
    "        cur = conn.cursor()\n",
    "        cur.execute('''CREATE TABLE IF NOT EXISTS test(id int, qid1 int, qid2 int, question1 text, question2 text,is_duplicate int)''')\n",
    "        conn.commit()\n",
    "        conn.close()\n",
    "    def InsertIntoTrainDatabase(self,id,qid1,qid2,question1,question2):\n",
    "        conn = lite.connect(os.path.join(main_dir,'Quora.db'))\n",
    "        cur = conn.cursor()\n",
    "        cur.execute('''insert into train(id, qid1, qid2, question1, question2,is_duplicate) values(?,?,?,?,?)''',(id,qid1,qid2,question1,question2,0))\n",
    "        conn.commit()\n",
    "        conn.close()\n",
    "    def InsertIntoTestDatabase(self,id,qid1,qid2,question1,question2):\n",
    "        conn = lite.connect(os.path.join(main_dir,'Quora.db'))\n",
    "        cur = conn.cursor()\n",
    "        cur.execute('''\n",
    "            insert into test(id, qid1, qid2, question1, question2,is_duplicate) values(?,?,?,?,?,?)''',(id,qid1,qid2,question1,question2,0))\n",
    "        conn.commit()\n",
    "        conn.close()\n",
    "    def InsertIntoTrainDatabase(self,id,qid1,qid2,question1,question2):\n",
    "        conn = lite.connect(os.path.join(main_dir,'Quora.db'))\n",
    "        cur = conn.cursor()\n",
    "        cur.execute('''\n",
    "            insert into train(id, qid1, qid2, question1, question2,is_duplicate) values(?,?,?,?,?,?)''',(id,qid1,qid2,question1,question2,0))\n",
    "        conn.commit()\n",
    "        conn.close()\n",
    "    def LoadTrainData(self):\n",
    "        for row in self.train_df.itertuples():\n",
    "            self.InsertIntoTrainDatabase(row[1],row[2],row[3],row[4],row[5])\n",
    "    def LoadTestData(self):\n",
    "        for row in self.test_df.itertuples():\n",
    "            self.InsertIntoTrainDatabase(row[1],row[2],row[3],row[4],1)\n",
    "\n",
    "def CreateSubmissionCSV():\n",
    "    app = xw.App()\n",
    "    wb = xw.Book(os.path.join(main_dir,'sample_submission.csv'))\n",
    "    sht = wb.sheets['sample_submission']\n",
    "    sht.range(\"A1\").value = \"test_id\"\n",
    "    sht.range(\"B1\").value = \"is_duplicate\"\n",
    "    for x in range(len(predicted)):\n",
    "        sht.range(\"A\" + str(x+2)).value = 1#id\n",
    "        sht.range(\"B\" + str(x+2)).value = 2#prediction\n",
    "    print(\"Done\")\n",
    "    wb.save()\n",
    "    wb.close()\n",
    "    app.quit()\n",
    "\n",
    "loader = DatabaseLoader()\n",
    "print(\"Done\")"
   ]
  },
  {
   "cell_type": "code",
   "execution_count": 34,
   "metadata": {
    "collapsed": false
   },
   "outputs": [
    {
     "name": "stdout",
     "output_type": "stream",
     "text": [
      "2345797\n"
     ]
    }
   ],
   "source": [
    "import csv\n",
    "count = 0\n",
    "with open(r'C:\\Users\\CCrowe\\Documents\\Kaggle\\Quora\\sample_submission.csv', 'r') as count_file:\n",
    "    csv_reader = csv.reader(count_file)\n",
    "    for row in csv_reader:\n",
    "        count += 1\n",
    "\n",
    "print(count)"
   ]
  },
  {
   "cell_type": "code",
   "execution_count": 53,
   "metadata": {
    "collapsed": false
   },
   "outputs": [
    {
     "name": "stdout",
     "output_type": "stream",
     "text": [
      "0 1 2 What is the step by step guide to invest in share market in india? What is the step by step guide to invest in share market?\n"
     ]
    },
    {
     "data": {
      "text/plain": [
       "<sqlite3.Cursor at 0x359c80a0>"
      ]
     },
     "execution_count": 53,
     "metadata": {},
     "output_type": "execute_result"
    }
   ],
   "source": []
  },
  {
   "cell_type": "code",
   "execution_count": null,
   "metadata": {
    "collapsed": true
   },
   "outputs": [],
   "source": []
  }
 ],
 "metadata": {
  "anaconda-cloud": {},
  "kernelspec": {
   "display_name": "Python [conda env:py34]",
   "language": "python",
   "name": "conda-env-py34-py"
  },
  "language_info": {
   "codemirror_mode": {
    "name": "ipython",
    "version": 3
   },
   "file_extension": ".py",
   "mimetype": "text/x-python",
   "name": "python",
   "nbconvert_exporter": "python",
   "pygments_lexer": "ipython3",
   "version": "3.4.5"
  }
 },
 "nbformat": 4,
 "nbformat_minor": 1
}
